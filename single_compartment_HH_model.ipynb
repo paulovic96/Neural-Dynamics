{
 "cells": [
  {
   "cell_type": "markdown",
   "metadata": {},
   "source": [
    "#  Simulation of single compartment Hodgkin-Huxley model of active neurite"
   ]
  },
  {
   "cell_type": "markdown",
   "metadata": {},
   "source": [
    "Voltage : \n",
    "$$V(t+1) = V(t) + \\Delta t \\cdot (\\frac{dV}{dt}) = V(t) + \\Delta t \\cdot (I_e(t) \\cdot - \\bar{g}_L (V(t)- E_L) - \\bar{g}_{Na} m^3h(V(t)- E_{Na}) - \\bar{g}_{K}n^4(V(t)- E_K)) \\\\\n",
    "= V(t) + \\Delta t \\cdot (I_e(t) \\cdot - 0.3 (V(t)- 10.6) - 120 m^3h(V(t)- 115) - 36n^4(V(t) + 12))$$ \n",
    "\n",
    "\n",
    "\n",
    "\n",
    "Gating Variables: \n",
    "$$m(t+1) = m(t) + \\Delta t \\cdot (\\frac{dm}{dt}) = m(t) + \\Delta t \\cdot (\\alpha_m(V(t)) (1-m(t)) - \\beta_m(V(t))m(t))$$\n",
    "$$h(t+1) = h(t) + \\Delta t \\cdot (\\frac{dh}{dt}) = h(t) + \\Delta t \\cdot (\\alpha_h(V(t)) (1-h(t)) - \\beta_h(V(t))h(t))$$\n",
    "$$n(t+1) = n(t) + \\Delta t \\cdot (\\frac{dn}{dt}) = n(t) + \\Delta t \\cdot (\\alpha_n(V(t)) (1-n(t)) - \\beta_n(V(t))n(t))$$\n",
    "\n"
   ]
  },
  {
   "cell_type": "code",
   "execution_count": null,
   "metadata": {
    "collapsed": true
   },
   "outputs": [],
   "source": [
    "%matplotlib notebook\n",
    "import math \n",
    "import numpy as np\n",
    "import matplotlib.pyplot as plt\n",
    "from mpl_toolkits.mplot3d import Axes3D"
   ]
  },
  {
   "cell_type": "markdown",
   "metadata": {},
   "source": [
    "### Electric Properties and unit test"
   ]
  },
  {
   "cell_type": "code",
   "execution_count": null,
   "metadata": {
    "collapsed": true
   },
   "outputs": [],
   "source": [
    "delta_t = 0.025 # ms\n",
    "t_e = 50 # ms\n",
    "t_s = 300 # ms\n",
    "I_0 = [0,3,6,8] # muA \n",
    "\n",
    "\n",
    "C_m = 1 # muF\n",
    "E_Na = 115 # mV\n",
    "E_K = -12 # mV\n",
    "E_L = 10.6 # mV\n",
    "E_m = -65 # mV\n",
    "g_Na = 120 # mS\n",
    "g_K = 36 # mS\n",
    "g_L = 0.3 # mS"
   ]
  },
  {
   "cell_type": "markdown",
   "metadata": {},
   "source": [
    "### Hodgkin-Huxley Formulars"
   ]
  },
  {
   "cell_type": "code",
   "execution_count": null,
   "metadata": {
    "collapsed": true
   },
   "outputs": [],
   "source": [
    "def delta_V_t(input_function,V,m,h,n,t): \n",
    "    return 1/C_m * (input_function(t) - g_L*(V - E_L) - g_Na*m**3*h*(V-E_Na) - g_K*n**4*(V - E_K))\n",
    "\n",
    "def delta_gate_t(alpha,beta,gate,V): # general equation for all gates\n",
    "    return alpha(V)*(1-gate) - beta(V)*gate\n",
    "\n",
    "def alpha_m(V):\n",
    "    if(V != 25):\n",
    "        return 0.1 * (V -25)/(1 - math.exp(-(V-25)/10))\n",
    "    else:\n",
    "        return 1\n",
    "    \n",
    "def beta_m(V):\n",
    "    return 4*math.exp(-V/18)\n",
    "\n",
    "def alpha_h(V):\n",
    "    return 0.07*math.exp(-V/20)\n",
    "\n",
    "def beta_h(V):\n",
    "    return 1/(1 + math.exp(-(V-30)/10))\n",
    "\n",
    "def alpha_n(V):\n",
    "    if(V!=10):\n",
    "        return 0.01*((V-10)/(1-math.exp(-(V-10)/10)))\n",
    "    else:\n",
    "        return 0.1\n",
    "    \n",
    "def beta_n(V):\n",
    "    return 0.125*math.exp(-V/80)"
   ]
  },
  {
   "cell_type": "markdown",
   "metadata": {},
   "source": [
    "### Steady State values for gating variables"
   ]
  },
  {
   "cell_type": "code",
   "execution_count": null,
   "metadata": {
    "collapsed": true
   },
   "outputs": [],
   "source": [
    "voltage = [0]#range(-50,150)\n",
    "n_stat = np.zeros(len(voltage))\n",
    "m_stat = np.zeros(len(voltage))\n",
    "h_stat = np.zeros(len(voltage))\n",
    "time = np.arange(0,500,0.025)\n",
    "\n",
    "for i,v in enumerate(voltage):\n",
    "    n = np.zeros(time.shape[0])\n",
    "    m = np.zeros(time.shape[0])\n",
    "    h = np.zeros(time.shape[0])\n",
    "    \n",
    "    j = 1\n",
    "    for t in time[1:]:\n",
    "        n_old = n[j-1]\n",
    "        delta_n = delta_gate_t(alpha_n,beta_n,n_old,v)\n",
    "        n_new = n_old + delta_t * delta_n\n",
    "        n[j] = n_new \n",
    "        \n",
    "        m_old = m[j-1]\n",
    "        delta_m = delta_gate_t(alpha_m,beta_m,m_old,v)\n",
    "        m_new = m_old + delta_t * delta_m\n",
    "        m[j] = m_new \n",
    "        \n",
    "        \n",
    "        h_old = h[j-1]\n",
    "        delta_h = delta_gate_t(alpha_h,beta_h,h_old,v)\n",
    "        h_new = h_old + delta_t * delta_h\n",
    "        h[j] = h_new \n",
    "        \n",
    "        j += 1\n",
    "        \n",
    "    n_stat[i] = n[len(n)-1] \n",
    "    m_stat[i] = m[len(m)-1] \n",
    "    h_stat[i] = h[len(h)-1] \n",
    "    \n",
    "    \n",
    "    \n",
    "#fig, ax = plt.subplots()\n",
    "#ax.plot(voltage, n_stat, label = \"n\") \n",
    "#ax.plot(voltage, m_stat, label = \"m\")\n",
    "#ax.plot(voltage, h_stat, label = \"h\")\n",
    "#ax.legend()\n",
    "#ax.set(xlabel='Voltage(mV)', ylabel='Magnitude',\n",
    "#       title='Steady State values for gating variables')\n",
    "\n",
    "#ax.grid()\n",
    "#plt.show() \n",
    "print(m_stat[0])\n",
    "print(n_stat[0])\n",
    "print(h_stat[0])"
   ]
  },
  {
   "cell_type": "markdown",
   "metadata": {},
   "source": [
    "### Hodgkin-Huxley Approximation"
   ]
  },
  {
   "cell_type": "code",
   "execution_count": null,
   "metadata": {
    "collapsed": true
   },
   "outputs": [],
   "source": [
    "#------------------------------------------Current Functions-----------------------------------------------------------    \n",
    "def create_rectangular_current(I):\n",
    "    def rectangular_current(t):\n",
    "        if(t< t_e or t_s <= t):\n",
    "            return 0\n",
    "        if(t_e <= t and t < t_s):\n",
    "            return I\n",
    "    \n",
    "    return rectangular_current    \n",
    "    \n",
    "def approximate_membran_potential(delta_t,t,input_function):\n",
    "        \n",
    "        # Initial condition\n",
    "        time = np.arange(0,t,delta_t)\n",
    "        steps = time.shape[0]\n",
    "        \n",
    "        \n",
    "        \n",
    "        V = np.zeros(steps)\n",
    "        m = np.zeros(steps)\n",
    "        h = np.zeros(steps)\n",
    "        n = np.zeros(steps)\n",
    "        \n",
    "        m[0] = m_stat[49]\n",
    "        print(m[0])\n",
    "        n[0] = n_stat[49]\n",
    "        h[0] = h_stat[49]\n",
    "        \n",
    "        i = 1\n",
    "        for t in time[1:]:\n",
    "            \n",
    "            V_old = V[i-1]\n",
    "            m_old = m[i-1]\n",
    "            h_old = h[i-1]\n",
    "            n_old = n[i-1]\n",
    "            \n",
    "            \n",
    "            delta_m = delta_gate_t(alpha_m,beta_m,m_old,V_old)\n",
    "            m_new = m_old + delta_t * delta_m\n",
    "            m[i] = m_new\n",
    "            \n",
    "            delta_h = delta_gate_t(alpha_h,beta_h,h_old,V_old)\n",
    "            h_new = h_old + delta_t * delta_h\n",
    "            h[i] = h_new \n",
    "            \n",
    "            delta_n = delta_gate_t(alpha_n,beta_n,n_old,V_old)\n",
    "            n_new = n_old + delta_t * delta_n\n",
    "            n[i] = n_new\n",
    "            \n",
    "            delta_V = delta_V_t(input_function,V_old,m_old,h_old,n_old,t)\n",
    "            V_new = V_old + delta_t * delta_V\n",
    "            V[i] = V_new\n",
    "            \n",
    "            i += 1\n",
    "        return V,m,h,n,time\n",
    " \n",
    "\n",
    "\n",
    "for I in I_0:\n",
    "    V,m,h,n,time = approximate_membran_potential(delta_t,500,create_rectangular_current(I))\n",
    "    \n",
    "    fig, ax = plt.subplots()\n",
    "    ax.plot(time, V)\n",
    "\n",
    "    ax.set(xlabel='time (ms)', ylabel='voltage (mV)',\n",
    "       title='Hodgkin-Huxley (HH) model (Input Current: %d muA)' % I)\n",
    "    ax.grid()\n",
    "    plt.show()"
   ]
  },
  {
   "cell_type": "markdown",
   "metadata": {},
   "source": [
    "### Friring Rate Simulation"
   ]
  },
  {
   "cell_type": "code",
   "execution_count": null,
   "metadata": {
    "collapsed": true
   },
   "outputs": [],
   "source": [
    "t_s = 800\n",
    "I_0 = np.arange(0,20,0.5)\n",
    "firing_rates = np.zeros(I_0.shape[0])\n",
    "\n",
    "def calculate_firing_rate(V):\n",
    "    rate = 0\n",
    "    for i in range(1,len(V)-1):\n",
    "        if(V[i] >= 85 and V[i-1]< 85): # neural threshold = +20mV given a E_m of ca. -65mV --> 85mV threshold\n",
    "            rate += 1\n",
    "    \n",
    "    return rate/(len(V)-(10/0.025)) #\n",
    "\n",
    "for i,I in enumerate(I_0):\n",
    "    V,m,h,n,time = approximate_membran_potential(delta_t,1000,create_rectangular_current(I))\n",
    "    firing_rates[i] = calculate_firing_rate(V)\n",
    "\n",
    "    \n",
    "fig, ax = plt.subplots()\n",
    "ax.plot(I_0, firing_rates)\n",
    "\n",
    "ax.set(xlabel='Current (muA)', ylabel='Firing Rate',\n",
    "title='HH - Model Firing Rates (Threshold 85mV)')\n",
    "\n",
    "ax.grid()\n",
    "plt.show()\n",
    "    "
   ]
  }
 ],
 "metadata": {
  "kernelspec": {
   "display_name": "Python 3",
   "language": "python",
   "name": "python3"
  },
  "language_info": {
   "codemirror_mode": {
    "name": "ipython",
    "version": 3
   },
   "file_extension": ".py",
   "mimetype": "text/x-python",
   "name": "python",
   "nbconvert_exporter": "python",
   "pygments_lexer": "ipython3",
   "version": "3.6.3"
  }
 },
 "nbformat": 4,
 "nbformat_minor": 2
}
